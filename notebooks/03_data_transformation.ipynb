{
 "cells": [
  {
   "cell_type": "code",
   "execution_count": null,
   "metadata": {},
   "outputs": [],
   "source": [
    "import os\n",
    "os.chdir('../')"
   ]
  },
  {
   "cell_type": "code",
   "execution_count": null,
   "metadata": {},
   "outputs": [],
   "source": [
    "from dotenv import load_dotenv, find_dotenv\n",
    "\n",
    "_ = load_dotenv(find_dotenv()) # read local .env file\n",
    "\n",
    "DATA_CONFIG_FILE_PATH = os.environ['DATA_CONFIG_FILE_PATH']"
   ]
  },
  {
   "cell_type": "code",
   "execution_count": null,
   "metadata": {},
   "outputs": [],
   "source": [
    "from dataclasses import dataclass\n",
    "from pathlib import Path\n",
    "\n",
    "@dataclass(frozen=True)\n",
    "class DataTransformationConfig:\n",
    "    root_dir: Path\n",
    "    finetuning_data_path: Path\n",
    "    train_data_split: float\n",
    "    test_data_split: float\n",
    "    eval_data_split: float"
   ]
  },
  {
   "cell_type": "code",
   "execution_count": null,
   "metadata": {},
   "outputs": [],
   "source": [
    "from src.utils.common import read_yaml\n",
    "\n",
    "class ConfigurationManager:\n",
    "    def __init__(self,\n",
    "                config_filepath = DATA_CONFIG_FILE_PATH):\n",
    "\n",
    "        self.config = read_yaml(Path(config_filepath))\n",
    "\n",
    "\n",
    "    \n",
    "    def get_data_transformation_config(self) -> DataTransformationConfig:\n",
    "        config = self.config.data_transformation\n",
    "\n",
    "\n",
    "        data_transformation_config = DataTransformationConfig(\n",
    "            root_dir=config.root_dir,\n",
    "            finetuning_data_path=config.finetuning_data_path,\n",
    "            train_data_split=config.train_data_split,\n",
    "            test_data_split=config.test_data_split,\n",
    "            eval_data_split=config.eval_data_split\n",
    "        )\n",
    "\n",
    "        return data_transformation_config"
   ]
  },
  {
   "cell_type": "code",
   "execution_count": null,
   "metadata": {},
   "outputs": [],
   "source": [
    "import pandas as pd\n",
    "from src.logging import logger\n",
    "from datasets import Dataset, DatasetDict\n",
    "\n",
    "class DataTransformation:\n",
    "    def __init__(self, config: DataTransformationConfig):\n",
    "        self.config = config\n",
    "\n",
    "    def __split_data(self, dataset: Dataset):\n",
    "        split_dataset = dataset.train_test_split(train_size=self.config.train_data_split, shuffle=True, seed=42)\n",
    "        test_dataset = split_dataset['test'].train_test_split(train_size=self.config.test_data_split, shuffle=True, seed=42)\n",
    "\n",
    "        dataset = DatasetDict({\n",
    "            'train' : split_dataset['train'],\n",
    "            'test' : test_dataset['train'],\n",
    "            'eval' : test_dataset['test'],\n",
    "        })\n",
    "\n",
    "        return dataset\n",
    "    \n",
    "    def __transform_data(self, dataset: Dataset):\n",
    "        \"\"\"Transforms the data to the format required by the model\"\"\"\n",
    "        return dataset\n",
    "\n",
    "    def convert(self):\n",
    "        finetuning_dataset_df = pd.read_csv(self.config.finetuning_data_path)\n",
    "        finetuning_dataset = Dataset.from_pandas(finetuning_dataset_df)\n",
    "        logger.info(\"Successfully loaded the finetuning data\")\n",
    "\n",
    "        transformed_dataset = self.__transform_data(finetuning_dataset)\n",
    "        logger.info(\"Successfully transformed the finetuning data\")\n",
    "\n",
    "        splitted_dataset = self.__split_data(transformed_dataset)\n",
    "        train_dataset = splitted_dataset['train']\n",
    "        test_dataset = splitted_dataset['test']\n",
    "        eval_dataset = splitted_dataset['eval']\n",
    "        logger.info(\"Successfully splitted the data\")\n",
    "\n",
    "        train_dataset_df = train_dataset.to_pandas()\n",
    "        test_dataset_df = test_dataset.to_pandas()\n",
    "        eval_dataset_df = eval_dataset.to_pandas()\n",
    "        train_dataset_df.to_csv(os.path.join(self.config.root_dir,\"train_dataset.csv\"), index=False)\n",
    "        test_dataset_df.to_csv(os.path.join(self.config.root_dir,\"test_dataset.csv\"), index=False)\n",
    "        eval_dataset_df.to_csv(os.path.join(self.config.root_dir,\"eval_dataset.csv\"), index=False)\n",
    "        logger.info(\"Successfully saved the transformed data\")"
   ]
  },
  {
   "cell_type": "code",
   "execution_count": null,
   "metadata": {},
   "outputs": [],
   "source": [
    "try:\n",
    "    config = ConfigurationManager()\n",
    "    data_transformation_config = config.get_data_transformation_config()\n",
    "    data_transformation = DataTransformation(config=data_transformation_config)\n",
    "    data_transformation.convert()\n",
    "except Exception as e:\n",
    "    raise e"
   ]
  },
  {
   "cell_type": "code",
   "execution_count": null,
   "metadata": {},
   "outputs": [],
   "source": []
  }
 ],
 "metadata": {
  "kernelspec": {
   "display_name": ".venv",
   "language": "python",
   "name": "python3"
  },
  "language_info": {
   "codemirror_mode": {
    "name": "ipython",
    "version": 3
   },
   "file_extension": ".py",
   "mimetype": "text/x-python",
   "name": "python",
   "nbconvert_exporter": "python",
   "pygments_lexer": "ipython3",
   "version": "3.11.1"
  }
 },
 "nbformat": 4,
 "nbformat_minor": 2
}
