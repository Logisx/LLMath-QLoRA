{
 "cells": [
  {
   "cell_type": "code",
   "execution_count": 1,
   "metadata": {},
   "outputs": [],
   "source": [
    "import os\n",
    "os.chdir('../')"
   ]
  },
  {
   "cell_type": "code",
   "execution_count": 2,
   "metadata": {},
   "outputs": [],
   "source": [
    "from dotenv import load_dotenv, find_dotenv\n",
    "\n",
    "_ = load_dotenv(find_dotenv()) # read local .env file\n",
    "\n",
    "DATA_CONFIG_FILE_PATH = os.environ['DATA_CONFIG_FILE_PATH']"
   ]
  },
  {
   "cell_type": "code",
   "execution_count": 3,
   "metadata": {},
   "outputs": [],
   "source": [
    "from dataclasses import dataclass\n",
    "from pathlib import Path\n",
    "\n",
    "@dataclass(frozen=True)\n",
    "class DataPreprocessingConfig:\n",
    "    root_dir: Path\n",
    "    raw_data_path: Path\n",
    "    question_key: str\n",
    "    answer_key: str"
   ]
  },
  {
   "cell_type": "code",
   "execution_count": 4,
   "metadata": {},
   "outputs": [],
   "source": [
    "from src.utils.common import read_yaml\n",
    "\n",
    "class ConfigurationManager:\n",
    "    def __init__(self,\n",
    "                 config_filepath = DATA_CONFIG_FILE_PATH):\n",
    "\n",
    "        self.config = read_yaml(Path(config_filepath))\n",
    "\n",
    "\n",
    "    def get_data_preprocessing_config(self) -> DataPreprocessingConfig:\n",
    "        config = self.config.data_preprocessing\n",
    "\n",
    "\n",
    "        data_preprocessing_config = DataPreprocessingConfig(\n",
    "            root_dir=config.root_dir,\n",
    "            raw_data_path=config.raw_data_path,\n",
    "            question_key=config.question_key,\n",
    "            answer_key=config.answer_key\n",
    "        )\n",
    "\n",
    "        return data_preprocessing_config"
   ]
  },
  {
   "cell_type": "code",
   "execution_count": 5,
   "metadata": {},
   "outputs": [],
   "source": [
    "import pandas as pd\n",
    "from src.logging import logger\n",
    "from datasets import Dataset\n",
    "\n",
    "class DataPreprocessing:\n",
    "    def __init__(self, config: DataPreprocessingConfig):\n",
    "        self.config = config\n",
    "        \n",
    "    def __form_finetuning_dataset(self, dataset_dict: dict, question_key: str, answer_key: str) -> Dataset:\n",
    "        instruction_template = \"\"\"{question}\"\"\"\n",
    "\n",
    "        prompt_template = \"\"\"Below is an instruction that describes a task. Write a response that appropriately completes the request.\n",
    "\n",
    "        ### Instruction:\n",
    "\n",
    "        {instruction}\n",
    "\n",
    "        ### Response:\\n\"\"\"\n",
    "\n",
    "        num_samples = len(dataset_dict[question_key])\n",
    "        finetuning_dataset_list = []\n",
    "        for i in range(num_samples):\n",
    "            question = dataset_dict[question_key][i]\n",
    "            instruction = instruction_template.format(question=question)\n",
    "            prompt = prompt_template.format(instruction=instruction)\n",
    "            response = dataset_dict[answer_key][i] + \"\\n### End\"\n",
    "            text = prompt + response\n",
    "            finetuning_dataset_list.append({\"instruction\": instruction, \"response\": response, \"text\": text})\n",
    "\n",
    "        finetuning_dataset = Dataset.from_list(finetuning_dataset_list)\n",
    "\n",
    "        return finetuning_dataset\n",
    "    \n",
    "\n",
    "    def convert(self):\n",
    "        instruction_dataset_df = pd.read_csv(self.config.raw_data_path)\n",
    "        instruction_dataset_dict = instruction_dataset_df.to_dict()\n",
    "        logger.info(\"Successfully loaded the raw dataset\")\n",
    "\n",
    "        finetuning_dataset = self.__form_finetuning_dataset(instruction_dataset_dict, question_key = self.config.question_key, answer_key = self.config.answer_key)\n",
    "        finetuning_dataset_df = finetuning_dataset.to_pandas()\n",
    "        finetuning_dataset_df.to_csv(os.path.join(self.config.root_dir,\"finetuning_dataset.csv\"), index=False)\n",
    "        logger.info(\"Successfully saved the finetuning dataset\")"
   ]
  },
  {
   "cell_type": "code",
   "execution_count": 6,
   "metadata": {},
   "outputs": [
    {
     "name": "stdout",
     "output_type": "stream",
     "text": [
      "[2023-11-30 18:58:49,070: INFO: common: yaml file: config\\data-config.yaml loaded successfully]\n",
      "[2023-11-30 18:58:49,233: INFO: 4118875211: Successfully loaded the raw data]\n",
      "[2023-11-30 18:58:49,666: INFO: 4118875211: Successfully saved the finetuning dataset]\n"
     ]
    }
   ],
   "source": [
    "try:\n",
    "    config = ConfigurationManager()\n",
    "    data_preprocessing_config = config.get_data_preprocessing_config()\n",
    "    data_preprocessing = DataPreprocessing(config=data_preprocessing_config)\n",
    "    data_preprocessing.convert()\n",
    "except Exception as e:\n",
    "    raise e"
   ]
  },
  {
   "cell_type": "code",
   "execution_count": null,
   "metadata": {},
   "outputs": [],
   "source": []
  }
 ],
 "metadata": {
  "kernelspec": {
   "display_name": ".venv",
   "language": "python",
   "name": "python3"
  },
  "language_info": {
   "codemirror_mode": {
    "name": "ipython",
    "version": 3
   },
   "file_extension": ".py",
   "mimetype": "text/x-python",
   "name": "python",
   "nbconvert_exporter": "python",
   "pygments_lexer": "ipython3",
   "version": "3.11.1"
  }
 },
 "nbformat": 4,
 "nbformat_minor": 2
}
